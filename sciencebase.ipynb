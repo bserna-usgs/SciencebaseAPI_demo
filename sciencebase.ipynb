{
 "cells": [
  {
   "cell_type": "markdown",
   "metadata": {
    "collapsed": true
   },
   "source": [
    "## Load PySB package "
   ]
  },
  {
   "cell_type": "code",
   "execution_count": 1,
   "metadata": {},
   "outputs": [],
   "source": [
    "import pysb"
   ]
  },
  {
   "cell_type": "markdown",
   "metadata": {},
   "source": [
    "## Begin session "
   ]
  },
  {
   "cell_type": "code",
   "execution_count": 2,
   "metadata": {},
   "outputs": [],
   "source": [
    "sb = pysb.SbSession()"
   ]
  },
  {
   "cell_type": "markdown",
   "metadata": {},
   "source": [
    "## Public items"
   ]
  },
  {
   "cell_type": "code",
   "execution_count": 3,
   "metadata": {},
   "outputs": [
    {
     "data": {
      "text/plain": [
       "{u'body': u'This two year study focused on understanding the effects of the removal of the low head Nashville dam on the Thornapple River in Barry County, MI. A comparison of data taken before the dam was removed to data taken after the dam was removed indicated changes to the macroinvertebrate community. Isopods abundance per artificial sampler decreased from an average of 744 to 14 from pre- to post-dam removal (2009 to 2010). In addition, there was an approximate 25% increase in the abundance of Ephemeroptera, Trichoptera, and Plecoptera, although a significant increase in EPT was also observed upstream of the former reservoir. Also, in the reach directly below the dam there was an increase in fine sediment that accounted for an average cross-sectional channel aggradation of 26 cm from pre- to post-dam conditions, indicating that some erosion from the reservoir and subsequent downstream deposition is occurring. This was in contrast to the relatively minor changes in the cross-sectional profile observed throughout the other study reaches, both upstream and downstream of the former dam. In addition, there still appears to be a turbidity signature directly below the dam in response to increasing discharge. Specifically, at the site directly downstream of the former reservoir, we observed a 0.5 to 1.0-fold elevation in turbidity during the rising limb of a flood event above that observed at other measurement locations further down and up stream. Finally, the ratio of molar nitrogen (as nitrate) to total phosphorus (NO3:TP) indicated that the reaches above the dam were P-limited (mean N:P was 22.3 and 17.3 in 2009 and 2010, respectively) and N-limited below the dam (9.2 and 5.1, respectively). Potential N-limitation increased below the dam from 2009 to 2010 as a result of elevated total P, particularly in the reach furthest downstream. Taken together, these results provide a better understanding of how the removal of a dam affected the ecosystem. Specifically, we observed some improvements in the macroinvertebrate community downstream of the reservoir even though the physical habitat appears to yet be coming into a new dynamic equilibrium with respect to the removed dam.',\n",
       " u'browseCategories': [u'Publication'],\n",
       " u'browseTypes': [u'Citation'],\n",
       " u'citation': u'Gibson, Adrienne M., Villalobos, Lauren M., and Snyder, Eric B., 2011, Ecosystem Responses to Low-Head Dam Removal: Assessment of Physical Habitat, Water Chemistry, and Macroinvertebrates:  Grand Valley State University, v. Report, 38 p.',\n",
       " u'contacts': [{u'name': u'Gibson, Adrienne M.',\n",
       "   u'organization': {},\n",
       "   u'primaryLocation': {u'mailAddress': {}, u'streetAddress': {}},\n",
       "   u'type': u'Author'},\n",
       "  {u'name': u'Villalobos, Lauren M.',\n",
       "   u'organization': {},\n",
       "   u'primaryLocation': {u'mailAddress': {}, u'streetAddress': {}},\n",
       "   u'type': u'Author'},\n",
       "  {u'name': u'Snyder, Eric B.',\n",
       "   u'organization': {},\n",
       "   u'primaryLocation': {u'mailAddress': {}, u'streetAddress': {}},\n",
       "   u'type': u'Author'},\n",
       "  {u'name': u'Grand Valley State University',\n",
       "   u'organization': {},\n",
       "   u'primaryLocation': {u'mailAddress': {}, u'streetAddress': {}},\n",
       "   u'type': u'Publisher'},\n",
       "  {u'name': u'Grand Valley State University',\n",
       "   u'organization': {},\n",
       "   u'primaryLocation': {u'mailAddress': {}, u'streetAddress': {}},\n",
       "   u'type': u'Institution'}],\n",
       " u'dates': [{u'dateString': u'2011', u'label': u'', u'type': u'Year'}],\n",
       " u'distributionLinks': [],\n",
       " u'facets': [{u'citationType': u'Report',\n",
       "   u'className': u'gov.sciencebase.catalog.item.facet.CitationFacet',\n",
       "   u'conference': u'',\n",
       "   u'edition': u'',\n",
       "   u'facetName': u'Citation',\n",
       "   u'journal': u'',\n",
       "   u'language': u'',\n",
       "   u'note': u'',\n",
       "   u'parts': [{u'type': u'Pages', u'value': u'38'},\n",
       "    {u'type': u'Volume', u'value': u'Report'}],\n",
       "   u'tableOfContents': u''}],\n",
       " u'hasChildren': False,\n",
       " u'id': u'55c27fe1e4b033ef5210686e',\n",
       " u'link': {u'rel': u'self',\n",
       "  u'url': u'https://www.sciencebase.gov/catalog/item/55c27fe1e4b033ef5210686e'},\n",
       " u'parentId': u'55c25e97e4b033ef52106793',\n",
       " u'provenance': {u'dataSource': u'File Processing',\n",
       "  u'dateCreated': u'2015-08-05T21:28:01Z',\n",
       "  u'fileProcess': {u'dateProcessed': u'2015-08-05T21:28:00Z',\n",
       "   u'fileReference': u'__disk__8f/4a/03/8f4a03df51c9d0da48b3d6e7baf2bed37b343437',\n",
       "   u'itemReference': u'55c25e97e4b033ef52106793',\n",
       "   u'processType': u'End Note',\n",
       "   u'processedBy': u'dwieferich@usgs.gov'},\n",
       "  u'lastUpdated': u'2016-01-13T19:15:45Z'},\n",
       " u'relatedItems': {u'link': {u'rel': u'related',\n",
       "   u'url': u'https://www.sciencebase.gov/catalog/itemLinks?itemId=55c27fe1e4b033ef5210686e'}},\n",
       " u'summary': u'This two year study focused on understanding the effects of the removal of the low head Nashville dam on the Thornapple River in Barry County, MI. A comparison of data taken before the dam was removed to data taken after the dam was removed indicated changes to the macroinvertebrate community. Isopods abundance per artificial sampler decreased from an average of 744 to 14 from pre- to post-dam removal (2009 to 2010). In addition, there was an approximate 25% increase in the abundance of Ephemeroptera, Trichoptera, and Plecoptera, although a significant increase in EPT was also observed upstream of the former reservoir. Also, in the reach directly below the dam there was an increase in fine sediment that accounted for an average cross-sectional [...]',\n",
       " u'title': u'Ecosystem Responses to Low-Head Dam Removal: Assessment of Physical Habitat, Water Chemistry, and Macroinvertebrates',\n",
       " u'webLinks': [{u'hidden': False,\n",
       "   u'title': u'pdf download',\n",
       "   u'type': u'pdf',\n",
       "   u'typeLabel': u'PDF Download',\n",
       "   u'uri': u'http://www.cedarcreekinstitute.org/PDF/aquatic%20eco%20system/2010%20-%20Ecosystem%20responses%20to%20dam%20removal.pdf'}]}"
      ]
     },
     "execution_count": 3,
     "metadata": {},
     "output_type": "execute_result"
    }
   ],
   "source": [
    "my_item = sb.getSbItem('55c27fe1e4b033ef5210686e')\n",
    "my_item"
   ]
  },
  {
   "cell_type": "markdown",
   "metadata": {},
   "source": [
    "## Private items"
   ]
  },
  {
   "cell_type": "markdown",
   "metadata": {},
   "source": [
    "### Requires login information "
   ]
  },
  {
   "cell_type": "code",
   "execution_count": null,
   "metadata": {},
   "outputs": [],
   "source": [
    "sb.loginc('sample_user@usgs.gov')"
   ]
  },
  {
   "cell_type": "markdown",
   "metadata": {},
   "source": [
    "## Viewing a private item "
   ]
  },
  {
   "cell_type": "code",
   "execution_count": null,
   "metadata": {
    "collapsed": true
   },
   "outputs": [],
   "source": [
    "private_item = sb.get_item('56d9c39fe4b015c306f7d00e')"
   ]
  },
  {
   "cell_type": "code",
   "execution_count": null,
   "metadata": {},
   "outputs": [],
   "source": [
    "# display title\n",
    "private_item['title']"
   ]
  },
  {
   "cell_type": "code",
   "execution_count": null,
   "metadata": {},
   "outputs": [],
   "source": [
    "# display body\n",
    "private_item['body']"
   ]
  },
  {
   "cell_type": "code",
   "execution_count": null,
   "metadata": {},
   "outputs": [],
   "source": [
    "private_item['previewImage']['original']['viewUri']"
   ]
  },
  {
   "cell_type": "markdown",
   "metadata": {},
   "source": [
    "![Alt Text](teapot.png)"
   ]
  },
  {
   "cell_type": "markdown",
   "metadata": {},
   "source": [
    "## Creating a new item "
   ]
  },
  {
   "cell_type": "markdown",
   "metadata": {},
   "source": [
    "### Defining item attributes "
   ]
  },
  {
   "cell_type": "code",
   "execution_count": null,
   "metadata": {
    "collapsed": true
   },
   "outputs": [],
   "source": [
    "new_item = {'title': 'Hello World', 'parentId': sb.getMyItemsId()}"
   ]
  },
  {
   "cell_type": "markdown",
   "metadata": {},
   "source": [
    "### Creating item "
   ]
  },
  {
   "cell_type": "code",
   "execution_count": null,
   "metadata": {},
   "outputs": [],
   "source": [
    "newSBitem = sb.create_item(new_item)\n",
    "newSBitem"
   ]
  },
  {
   "cell_type": "markdown",
   "metadata": {},
   "source": [
    "### Uploading a file to the last item"
   ]
  },
  {
   "cell_type": "code",
   "execution_count": null,
   "metadata": {},
   "outputs": [],
   "source": [
    "sb.upload_file_to_item(newSBitem, \"teapot.png\")"
   ]
  },
  {
   "cell_type": "markdown",
   "metadata": {},
   "source": [
    "### Remove item "
   ]
  },
  {
   "cell_type": "code",
   "execution_count": null,
   "metadata": {},
   "outputs": [],
   "source": [
    "sb.delete_item(newSBitem)"
   ]
  },
  {
   "cell_type": "markdown",
   "metadata": {},
   "source": [
    "### Get Children Items"
   ]
  },
  {
   "cell_type": "code",
   "execution_count": null,
   "metadata": {},
   "outputs": [],
   "source": [
    "for i in sb.get_child_ids('5537d9f6e4b0b22a15808772'):\n",
    "    print i"
   ]
  },
  {
   "cell_type": "markdown",
   "metadata": {},
   "source": [
    "#### Gather children item information"
   ]
  },
  {
   "cell_type": "code",
   "execution_count": null,
   "metadata": {},
   "outputs": [],
   "source": [
    "def parent_item(id):\n",
    "    # children \n",
    "    child_id = sb.get_child_ids(id)\n",
    "    \n",
    "    # print info\n",
    "    for i in child_id:\n",
    "        item = sb.get_child_ids(i)\n",
    "        \n",
    "        # Title\n",
    "        print item['title']\n",
    "        \n",
    "        # ID\n",
    "        print id\n",
    "        \n",
    "        # Abstract\n",
    "        print item['summary']\n",
    "                \n",
    "        # Contacts\n",
    "        for y in item['contacts']:\n",
    "            print y['name']\n",
    "        print \"\\n\\n\""
   ]
  },
  {
   "cell_type": "code",
   "execution_count": null,
   "metadata": {},
   "outputs": [],
   "source": [
    "parent_item('5537d9f6e4b0b22a15808772')"
   ]
  },
  {
   "cell_type": "markdown",
   "metadata": {},
   "source": [
    "### Update contact info "
   ]
  },
  {
   "cell_type": "code",
   "execution_count": null,
   "metadata": {},
   "outputs": [],
   "source": [
    "contact_update = {'id':'56e30031e4b0f59b85d3a2ca', 'title':'Coffee Mug 1.0', 'parentId': sb.get_my_items_id(), 'contacts': [{\"name\": \"Brandon Serna\"}]}"
   ]
  },
  {
   "cell_type": "code",
   "execution_count": null,
   "metadata": {},
   "outputs": [],
   "source": [
    "sb.update_item(contact_update)"
   ]
  },
  {
   "cell_type": "code",
   "execution_count": null,
   "metadata": {},
   "outputs": [],
   "source": [
    "sb.get_item('56e30031e4b0f59b85d3a2ca')"
   ]
  }
 ],
 "metadata": {
  "kernelspec": {
   "display_name": "Python 2",
   "language": "python",
   "name": "python2"
  },
  "language_info": {
   "codemirror_mode": {
    "name": "ipython",
    "version": 2
   },
   "file_extension": ".py",
   "mimetype": "text/x-python",
   "name": "python",
   "nbconvert_exporter": "python",
   "pygments_lexer": "ipython2",
   "version": "2.7.11"
  }
 },
 "nbformat": 4,
 "nbformat_minor": 1
}
