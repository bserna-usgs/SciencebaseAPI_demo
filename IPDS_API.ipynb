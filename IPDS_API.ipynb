{
 "cells": [
  {
   "cell_type": "markdown",
   "metadata": {},
   "source": [
    "# IPDS API Sample"
   ]
  },
  {
   "cell_type": "markdown",
   "metadata": {},
   "source": [
    "<hr>"
   ]
  },
  {
   "cell_type": "code",
   "execution_count": 1,
   "metadata": {
    "collapsed": false
   },
   "outputs": [],
   "source": [
    "from bs4 import BeautifulSoup\n",
    "import requests\n",
    "from requests_ntlm import HttpNtlmAuth\n",
    "import getpass"
   ]
  },
  {
   "cell_type": "markdown",
   "metadata": {},
   "source": [
    "#### IPDS URLs "
   ]
  },
  {
   "cell_type": "code",
   "execution_count": 2,
   "metadata": {
    "collapsed": true
   },
   "outputs": [],
   "source": [
    "cost_center_url = 'https://ipds.usgs.gov/_vti_bin/Listdata.svc/CostCenters()'\n",
    "\n",
    "data_releases_url = 'https://ipds.usgs.gov/_vti_bin/Listdata.svc/InformationProduct()?$filter=ProductTypeValue%20eq%20%27Data%20Release%27'"
   ]
  },
  {
   "cell_type": "markdown",
   "metadata": {},
   "source": [
    "### Authentication"
   ]
  },
  {
   "cell_type": "code",
   "execution_count": 3,
   "metadata": {
    "collapsed": false
   },
   "outputs": [
    {
     "name": "stdout",
     "output_type": "stream",
     "text": [
      "········\n"
     ]
    }
   ],
   "source": [
    "p = getpass.getpass()\n",
    "s = requests.Session()\n",
    "# Need to change this to your AD username\n",
    "s.auth = HttpNtlmAuth('GS\\\\bserna', p, s)"
   ]
  },
  {
   "cell_type": "code",
   "execution_count": 4,
   "metadata": {
    "collapsed": true
   },
   "outputs": [],
   "source": [
    "# Store records from get_ipds_records function \n",
    "record_list = []\n",
    "\n",
    "\n",
    "def get_center_list(session, cost_center_url):\n",
    "    content = session.get(cost_center_url)\n",
    "    soup = BeautifulSoup(content.text, \"lxml-xml\")\n",
    "    center_list = []\n",
    "    for entry in soup.find_all('entry'):\n",
    "        center_dict = {}\n",
    "        center_dict['name'] = entry.find('Name').string\n",
    "        center_dict['id'] = int(entry.find('Id').string)\n",
    "        center_list.append(center_dict)\n",
    "    return center_list\n",
    "\n",
    "\n",
    "def get_ipds_records(session, data_releases_url):\n",
    "    content = session.get(data_releases_url)\n",
    "    soup = BeautifulSoup(content.text, \"lxml-xml\")\n",
    "    for entry in soup.find_all('entry'):\n",
    "        record = {}\n",
    "        record['working_title'] = entry.find('WorkingTitle').string\n",
    "        record['ip_number'] = entry.find('IPNumber').string\n",
    "        record['final_title'] = entry.find('FinalTitle').string\n",
    "        record['abstract'] = entry.find('Abstract').string\n",
    "        record['DOI'] = entry.find('DigitalObjectIdentifier').string\n",
    "        record['IPDS_state'] = entry.find('IPDSReviewProcessStateValue').string\n",
    "        record['citation'] = entry.find('Citation').string\n",
    "        record['mission_area'] = entry.find('USGSMissionAreaValue').string\n",
    "        record['created'] = entry.find('Created').string\n",
    "        record['summary'] = entry.find('ProductSummary').string\n",
    "        record_list.append(record)\n",
    "        #print record"
   ]
  },
  {
   "cell_type": "code",
   "execution_count": 5,
   "metadata": {
    "collapsed": false
   },
   "outputs": [],
   "source": [
    "center_list = get_center_list(s, cost_center_url)\n",
    "ipds_records = get_ipds_records(s, data_releases_url)"
   ]
  },
  {
   "cell_type": "markdown",
   "metadata": {},
   "source": [
    "#### Get DOIs"
   ]
  },
  {
   "cell_type": "code",
   "execution_count": 6,
   "metadata": {
    "collapsed": false
   },
   "outputs": [],
   "source": [
    "def get_dois(record_list):\n",
    "    # List to return the found DOIs only \n",
    "    all_dois = []\n",
    "    \n",
    "    for item in record_list:\n",
    "        if item['DOI']:\n",
    "            all_dois.append(item['DOI'])\n",
    "    \n",
    "    return all_dois\n",
    "            \n",
    "all_dois = get_dois(record_list)"
   ]
  },
  {
   "cell_type": "markdown",
   "metadata": {},
   "source": [
    "#### Clean DOI Formatting"
   ]
  },
  {
   "cell_type": "code",
   "execution_count": 7,
   "metadata": {
    "collapsed": false
   },
   "outputs": [],
   "source": [
    "def doi_cleaning(all_dois):\n",
    "    # List to return of cleaned DOIs \n",
    "    cleaned = []\n",
    "\n",
    "    for doi in all_dois:\n",
    "        doi = doi.strip()\n",
    "\n",
    "        if doi.startswith('doi: '):\n",
    "            cleaned.append(doi[5:])\n",
    "\n",
    "        elif doi.startswith('doi:'):\n",
    "            cleaned.append(doi[4:])\n",
    "\n",
    "        elif doi.endswith('.'):\n",
    "            all_dois.append(doi[:-1])\n",
    "\n",
    "        elif doi.startswith('http:/d'):\n",
    "            cleaned.append(doi[17:])\n",
    "            \n",
    "        elif doi.startswith('http://'):\n",
    "            cleaned.append(doi[18:])\n",
    "            \n",
    "        elif doi[0] == ' ':\n",
    "            cleaned.append(doi[1:])\n",
    "            \n",
    "        else:\n",
    "            cleaned.append(doi)\n",
    "    \n",
    "    return cleaned"
   ]
  },
  {
   "cell_type": "code",
   "execution_count": 8,
   "metadata": {
    "collapsed": false
   },
   "outputs": [
    {
     "data": {
      "text/plain": [
       "[u'10.5066/F7862DJ2',\n",
       " u'10.5066/F7KD1VZ9',\n",
       " u'10.5066/F7Q52MNK',\n",
       " u'10.5066/F7PG1PT2',\n",
       " u'10.5066/F7G44NB6',\n",
       " u'10.5066/F78W3BC8',\n",
       " u'10.5066/F7HX19RJ',\n",
       " u'10.5066/F7RX9954',\n",
       " u'10.5066/F78K7749',\n",
       " u'10.5066/F7NK3C4V',\n",
       " u'10.5066/F7JW8BXT',\n",
       " u'10.5066/F7RF5S3P',\n",
       " u'10.5066/F74747XS',\n",
       " u'10.5066/F74747XS',\n",
       " u'10.5066/F7Z60M4M',\n",
       " u'10.5066/F798853M',\n",
       " u'10.5066/F75H7DBF',\n",
       " u'10.5066/F77H1GP3',\n",
       " u'10.5066/F76971PM',\n",
       " u'10.5066/F7D798GR',\n",
       " u'10.5066/F7VX0DMQ',\n",
       " u'10.5066/F7542KP9',\n",
       " u'10.5066/F7K35RRS']"
      ]
     },
     "execution_count": 8,
     "metadata": {},
     "output_type": "execute_result"
    }
   ],
   "source": [
    "cleaned = doi_cleaning(all_dois)\n",
    "cleaned"
   ]
  },
  {
   "cell_type": "markdown",
   "metadata": {},
   "source": [
    "#### Verify which DOIs are resolving successfully to sciencebase.gov"
   ]
  },
  {
   "cell_type": "code",
   "execution_count": 9,
   "metadata": {
    "collapsed": false
   },
   "outputs": [],
   "source": [
    "def sb_hosted(cleaned):\n",
    "    in_sb = []\n",
    "    \n",
    "    for doi in cleaned:\n",
    "        get_url = 'https://dx.doi.org/' + doi\n",
    "\n",
    "        r = requests.get(get_url)\n",
    "        url = r.url\n",
    "        if url.startswith('https://www.sciencebase.gov/'):\n",
    "            in_sb.append(url)\n",
    "    return in_sb"
   ]
  },
  {
   "cell_type": "code",
   "execution_count": 10,
   "metadata": {
    "collapsed": false
   },
   "outputs": [
    {
     "data": {
      "text/plain": [
       "[u'https://www.sciencebase.gov/catalog/item/56c6303ee4b0946c65228796',\n",
       " u'https://www.sciencebase.gov/catalog/item/55f998b7e4b05d6c4e50146f',\n",
       " u'https://www.sciencebase.gov/catalog/item/5547a069e4b0a658d794d1f1',\n",
       " u'https://www.sciencebase.gov/catalog/item/567ad1d7e4b0a04ef490fd8b',\n",
       " u'https://www.sciencebase.gov/catalog/item/564bafdce4b0ebfbef0d3322',\n",
       " u'https://www.sciencebase.gov/catalog/item/560997dae4b058f706e53544',\n",
       " u'https://www.sciencebase.gov/catalog/item/56c235f5e4b0946c651fc290',\n",
       " u'https://www.sciencebase.gov/catalog/item/56a79216e4b0b28f1184d8d8']"
      ]
     },
     "execution_count": 10,
     "metadata": {},
     "output_type": "execute_result"
    }
   ],
   "source": [
    "sb_dois = sb_hosted(cleaned)\n",
    "sb_dois"
   ]
  },
  {
   "cell_type": "code",
   "execution_count": null,
   "metadata": {
    "collapsed": true
   },
   "outputs": [],
   "source": []
  }
 ],
 "metadata": {
  "kernelspec": {
   "display_name": "Python 2",
   "language": "python",
   "name": "python2"
  },
  "language_info": {
   "codemirror_mode": {
    "name": "ipython",
    "version": 2
   },
   "file_extension": ".py",
   "mimetype": "text/x-python",
   "name": "python",
   "nbconvert_exporter": "python",
   "pygments_lexer": "ipython2",
   "version": "2.7.11"
  }
 },
 "nbformat": 4,
 "nbformat_minor": 0
}
